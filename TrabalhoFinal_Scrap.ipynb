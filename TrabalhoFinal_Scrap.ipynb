{
  "nbformat": 4,
  "nbformat_minor": 0,
  "metadata": {
    "colab": {
      "name": "TrabalhoFinal-Scrap.ipynb",
      "provenance": [],
      "collapsed_sections": []
    },
    "kernelspec": {
      "name": "python3",
      "display_name": "Python 3"
    }
  },
  "cells": [
    {
      "cell_type": "code",
      "metadata": {
        "id": "JA38aIZZ8xBa"
      },
      "source": [
        "from bs4 import BeautifulSoup, Comment\n",
        "from urllib.request import urlopen\n",
        "import pandas as pd\n",
        "import re\n",
        "import warnings\n",
        "warnings.filterwarnings('ignore')"
      ],
      "execution_count": null,
      "outputs": []
    },
    {
      "cell_type": "code",
      "metadata": {
        "id": "DwNcO0FxyKeS"
      },
      "source": [
        "# Temporadas analisadas\n",
        "seasons = [1980, 1981, 1982, 1983, 1984, 1985, 1986, 1987, 1988, 1989,\n",
        "           1990, 1991, 1992, 1993, 1994, 1995, 1996, 1997, 1998, 1999,\n",
        "           2000, 2001, 2002, 2003, 2004, 2005, 2006, 2007, 2008, 2009,\n",
        "           2010, 2011, 2012, 2013, 2014, 2015, 2016, 2017, 2018, 2019,\n",
        "           2020]"
      ],
      "execution_count": null,
      "outputs": []
    },
    {
      "cell_type": "code",
      "metadata": {
        "id": "D9_ySuGWX4BK"
      },
      "source": [
        "# Dicionário de nomes completos dos times e suas abreviaturas\n",
        "teams = {\n",
        "    'Atlanta Hawks': 'ATL',\n",
        "    'Boston Celtics': 'BOS',\n",
        "    'Brooklyn Nets': 'BRK',\n",
        "    'Charlotte Bobcats': 'CHA',\n",
        "    'Charlotte Hornets': 'CHH/CHO',\n",
        "    'Chicago Bulls': 'CHI',\n",
        "    'Cleveland Cavaliers': 'CLE',\n",
        "    'Dallas Mavericks': 'DAL',\n",
        "    'Denver Nuggets': 'DEN',\n",
        "    'Detroit Pistons': 'DET',\n",
        "    'Golden State Warriors': 'GSW',\n",
        "    'Houston Rockets': 'HOU',\n",
        "    'Indiana Pacers': 'IND',\n",
        "    'Kansas City Kings': 'KCK',\n",
        "    'Los Angeles Clippers': 'LAC',\n",
        "    'Los Angeles Lakers': 'LAL',\n",
        "    'Memphis Grizzlies': 'MEM',\n",
        "    'Miami Heat': 'MIA',\n",
        "    'Milwaukee Bucks': 'MIL',\n",
        "    'Minnesota Timberwolves': 'MIN',\n",
        "    'New Jersey Nets': 'NJN',\n",
        "    'New Orleans Hornets': 'NOH',\n",
        "    'New Orleans/Oklahoma City Hornets': 'NOK',\n",
        "    'New Orleans Pelicans': 'NOP',\n",
        "    'New York Knicks': 'NYK',\n",
        "    'Oklahoma City Thunder': 'OKC',\n",
        "    'Orlando Magic': 'ORL',\n",
        "    'Philadelphia 76ers': 'PHI',\n",
        "    'Phoenix Suns': 'PHO',\n",
        "    'Portland Trail Blazers': 'POR',\n",
        "    'Sacramento Kings': 'SAC',\n",
        "    'San Antonio Spurs': 'SAS',\n",
        "    'San Diego Clippers': 'SDC',\n",
        "    'Seattle SuperSonics': 'SEA',\n",
        "    'Toronto Raptors': 'TOR',\n",
        "    'Utah Jazz': 'UTA',\n",
        "    'Vancouver Grizzlies': 'VAN',\n",
        "    'Washington Wizards': 'WAS',\n",
        "    'Washington Bullets': 'WSB'\n",
        "}"
      ],
      "execution_count": null,
      "outputs": []
    },
    {
      "cell_type": "code",
      "metadata": {
        "id": "AZ8gfvXosZL-"
      },
      "source": [
        "# Scrap Standings\n",
        "standings_per_season = []\n",
        "for season in seasons:\n",
        "    url = 'https://www.basketball-reference.com/leagues/NBA_{}_standings.html'.format(season)\n",
        "    html = urlopen(url)\n",
        "    soup = BeautifulSoup(html)\n",
        "\n",
        "    # Obter código comentado\n",
        "    commented_html = []\n",
        "    for comments in soup.findAll(text = lambda text:isinstance(text, Comment)):\n",
        "        commented_tag = comments.extract()\n",
        "        commented_html.append(commented_tag)\n",
        "    \n",
        "    commented_soup = BeautifulSoup(commented_html[26])\n",
        "\n",
        "    # Obter cabeçalho\n",
        "    headers = [th.getText() for th in commented_soup.findAll('tr', limit = 2)[1].findAll('th')]\n",
        "    headers = headers[0:2]\n",
        "\n",
        "    # Obter linhas\n",
        "    rows = commented_soup.findAll('tr')[2:]\n",
        "    team_stats = [[td.getText() for td in rows[i].findAll(lambda tag: tag.has_attr('data-stat') and tag['data-stat'] == 'ranker' or 'team_name')][:2] for i in range(len(rows))]\n",
        "    stats = pd.DataFrame(team_stats, columns = headers)\n",
        "    stats['Season'] = season\n",
        "\n",
        "    # Adicionar dados a lista\n",
        "    standings_per_season.append(stats)\n",
        "\n",
        "# Unir todos os dados da lista\n",
        "standings_stats = pd.concat(standings_per_season)"
      ],
      "execution_count": null,
      "outputs": []
    },
    {
      "cell_type": "code",
      "metadata": {
        "id": "d80u8vAUkOrQ"
      },
      "source": [
        "# Converter nomes completos dos times para o abreviado\n",
        "def transform_variable_Team(x: str) -> str:\n",
        "    return teams[x]\n",
        "\n",
        "standings_stats.Team = standings_stats.Team.apply(transform_variable_Team)\n",
        "\n",
        "maskChh = (standings_stats.Team == 'CHH/CHO') & (standings_stats.Season <= 2002)\n",
        "standings_stats.Team[maskChh] = 'CHH'\n",
        "\n",
        "maskCho = (standings_stats.Team == 'CHH/CHO') & (standings_stats.Season >= 2015)\n",
        "standings_stats.Team[maskCho] = 'CHO'"
      ],
      "execution_count": null,
      "outputs": []
    },
    {
      "cell_type": "code",
      "metadata": {
        "id": "4_pAOTOvQjNn",
        "outputId": "b7ad775c-161d-4100-f13b-ff31e8c1858e",
        "colab": {
          "base_uri": "https://localhost:8080/",
          "height": 187
        }
      },
      "source": [
        "standings_stats.info()"
      ],
      "execution_count": null,
      "outputs": [
        {
          "output_type": "stream",
          "text": [
            "<class 'pandas.core.frame.DataFrame'>\n",
            "Int64Index: 1134 entries, 0 to 29\n",
            "Data columns (total 3 columns):\n",
            " #   Column  Non-Null Count  Dtype \n",
            "---  ------  --------------  ----- \n",
            " 0   Rk      1134 non-null   object\n",
            " 1   Team    1134 non-null   object\n",
            " 2   Season  1134 non-null   int64 \n",
            "dtypes: int64(1), object(2)\n",
            "memory usage: 35.4+ KB\n"
          ],
          "name": "stdout"
        }
      ]
    },
    {
      "cell_type": "code",
      "metadata": {
        "id": "Qr98riuV1N_d"
      },
      "source": [
        "# Scrap Basic Stats\n",
        "basic_stats_per_season = []\n",
        "for season in seasons:\n",
        "    url = 'https://www.basketball-reference.com/leagues/NBA_{}_per_game.html'.format(season)\n",
        "    html = urlopen(url)\n",
        "    soup = BeautifulSoup(html)\n",
        "\n",
        "    # Obter cabeçalho\n",
        "    headers = [th.getText() for th in soup.findAll('tr', limit = 2)[0].findAll('th')]\n",
        "    headers = headers[1:]\n",
        "\n",
        "    # Obter linhas\n",
        "    rows = soup.findAll('tr', class_ = lambda x: x != 'thead')[1:]\n",
        "    player_stats = [[td.getText() for td in rows[i].findAll('td')] for i in range(len(rows))]\n",
        "    stats = pd.DataFrame(player_stats, columns = headers)\n",
        "    stats['Season'] = season\n",
        "\n",
        "    # Adicionar dados a lista\n",
        "    basic_stats_per_season.append(stats)\n",
        "\n",
        "# Unir todos os dados da lista\n",
        "basic_stats = pd.concat(basic_stats_per_season)"
      ],
      "execution_count": null,
      "outputs": []
    },
    {
      "cell_type": "code",
      "metadata": {
        "id": "lruUA8zCzCoY",
        "outputId": "e708b2b4-5f9b-44cc-d2f7-33ca1ecb91b5",
        "colab": {
          "base_uri": "https://localhost:8080/",
          "height": 646
        }
      },
      "source": [
        "basic_stats.info()"
      ],
      "execution_count": null,
      "outputs": [
        {
          "output_type": "stream",
          "text": [
            "<class 'pandas.core.frame.DataFrame'>\n",
            "Int64Index: 20950 entries, 0 to 650\n",
            "Data columns (total 30 columns):\n",
            " #   Column  Non-Null Count  Dtype \n",
            "---  ------  --------------  ----- \n",
            " 0   Player  20950 non-null  object\n",
            " 1   Pos     20950 non-null  object\n",
            " 2   Age     20950 non-null  object\n",
            " 3   Tm      20950 non-null  object\n",
            " 4   G       20950 non-null  object\n",
            " 5   GS      20950 non-null  object\n",
            " 6   MP      20950 non-null  object\n",
            " 7   FG      20950 non-null  object\n",
            " 8   FGA     20950 non-null  object\n",
            " 9   FG%     20950 non-null  object\n",
            " 10  3P      20950 non-null  object\n",
            " 11  3PA     20950 non-null  object\n",
            " 12  3P%     20950 non-null  object\n",
            " 13  2P      20950 non-null  object\n",
            " 14  2PA     20950 non-null  object\n",
            " 15  2P%     20950 non-null  object\n",
            " 16  eFG%    20950 non-null  object\n",
            " 17  FT      20950 non-null  object\n",
            " 18  FTA     20950 non-null  object\n",
            " 19  FT%     20950 non-null  object\n",
            " 20  ORB     20950 non-null  object\n",
            " 21  DRB     20950 non-null  object\n",
            " 22  TRB     20950 non-null  object\n",
            " 23  AST     20950 non-null  object\n",
            " 24  STL     20950 non-null  object\n",
            " 25  BLK     20950 non-null  object\n",
            " 26  TOV     20950 non-null  object\n",
            " 27  PF      20950 non-null  object\n",
            " 28  PTS     20950 non-null  object\n",
            " 29  Season  20950 non-null  int64 \n",
            "dtypes: int64(1), object(29)\n",
            "memory usage: 5.0+ MB\n"
          ],
          "name": "stdout"
        }
      ]
    },
    {
      "cell_type": "code",
      "metadata": {
        "id": "ddi07VDP3Zsr"
      },
      "source": [
        "# Remover colunas desnecessárias\n",
        "basic_stats.drop(columns = ['FG', 'FGA', '3P', '3PA', '2P', '2PA', 'FT', 'FTA', 'ORB', 'DRB'], inplace = True)"
      ],
      "execution_count": null,
      "outputs": []
    },
    {
      "cell_type": "code",
      "metadata": {
        "id": "Djq2QP2IG1AN",
        "outputId": "eed90fda-4d6b-4c7b-a894-3d7e4856c2a4",
        "colab": {
          "base_uri": "https://localhost:8080/",
          "height": 476
        }
      },
      "source": [
        "basic_stats.info()"
      ],
      "execution_count": null,
      "outputs": [
        {
          "output_type": "stream",
          "text": [
            "<class 'pandas.core.frame.DataFrame'>\n",
            "Int64Index: 20950 entries, 0 to 650\n",
            "Data columns (total 20 columns):\n",
            " #   Column  Non-Null Count  Dtype \n",
            "---  ------  --------------  ----- \n",
            " 0   Player  20950 non-null  object\n",
            " 1   Pos     20950 non-null  object\n",
            " 2   Age     20950 non-null  object\n",
            " 3   Tm      20950 non-null  object\n",
            " 4   G       20950 non-null  object\n",
            " 5   GS      20950 non-null  object\n",
            " 6   MP      20950 non-null  object\n",
            " 7   FG%     20950 non-null  object\n",
            " 8   3P%     20950 non-null  object\n",
            " 9   2P%     20950 non-null  object\n",
            " 10  eFG%    20950 non-null  object\n",
            " 11  FT%     20950 non-null  object\n",
            " 12  TRB     20950 non-null  object\n",
            " 13  AST     20950 non-null  object\n",
            " 14  STL     20950 non-null  object\n",
            " 15  BLK     20950 non-null  object\n",
            " 16  TOV     20950 non-null  object\n",
            " 17  PF      20950 non-null  object\n",
            " 18  PTS     20950 non-null  object\n",
            " 19  Season  20950 non-null  int64 \n",
            "dtypes: int64(1), object(19)\n",
            "memory usage: 3.4+ MB\n"
          ],
          "name": "stdout"
        }
      ]
    },
    {
      "cell_type": "code",
      "metadata": {
        "id": "KlwX6Exo_9Uh"
      },
      "source": [
        "# Scrap Advanced Stats\n",
        "advanced_stats_per_season = []\n",
        "for season in seasons:\n",
        "    url = 'https://www.basketball-reference.com/leagues/NBA_{}_advanced.html'.format(season)\n",
        "    html = urlopen(url)\n",
        "    soup = BeautifulSoup(html)\n",
        "\n",
        "    # Obter cabeçalh\n",
        "    headers = [th.getText() for th in soup.findAll('tr', limit = 2)[0].findAll('th')]\n",
        "    headers = headers[1:]\n",
        "\n",
        "    # Obter linhas\n",
        "    rows = soup.findAll('tr', class_ = lambda x: x != 'thead')[1:]\n",
        "    player_stats = [[td.getText() for td in rows[i].findAll('td')] for i in range(len(rows))]\n",
        "    stats = pd.DataFrame(player_stats, columns = headers)\n",
        "    stats['Season'] = season\n",
        "\n",
        "    # Adicionar dados a lista\n",
        "    advanced_stats_per_season.append(stats)\n",
        "\n",
        "# Unir todos os dados da lista\n",
        "advanced_stats = pd.concat(advanced_stats_per_season)"
      ],
      "execution_count": null,
      "outputs": []
    },
    {
      "cell_type": "code",
      "metadata": {
        "id": "DtKe2HBPzahm",
        "outputId": "694addd8-5a99-46e3-878f-2cf629ed2448",
        "colab": {
          "base_uri": "https://localhost:8080/",
          "height": 629
        }
      },
      "source": [
        "advanced_stats.info()"
      ],
      "execution_count": null,
      "outputs": [
        {
          "output_type": "stream",
          "text": [
            "<class 'pandas.core.frame.DataFrame'>\n",
            "Int64Index: 20950 entries, 0 to 650\n",
            "Data columns (total 29 columns):\n",
            " #   Column  Non-Null Count  Dtype \n",
            "---  ------  --------------  ----- \n",
            " 0   Player  20950 non-null  object\n",
            " 1   Pos     20950 non-null  object\n",
            " 2   Age     20950 non-null  object\n",
            " 3   Tm      20950 non-null  object\n",
            " 4   G       20950 non-null  object\n",
            " 5   MP      20950 non-null  object\n",
            " 6   PER     20950 non-null  object\n",
            " 7   TS%     20950 non-null  object\n",
            " 8   3PAr    20950 non-null  object\n",
            " 9   FTr     20950 non-null  object\n",
            " 10  ORB%    20950 non-null  object\n",
            " 11  DRB%    20950 non-null  object\n",
            " 12  TRB%    20950 non-null  object\n",
            " 13  AST%    20950 non-null  object\n",
            " 14  STL%    20950 non-null  object\n",
            " 15  BLK%    20950 non-null  object\n",
            " 16  TOV%    20950 non-null  object\n",
            " 17  USG%    20950 non-null  object\n",
            " 18          20950 non-null  object\n",
            " 19  OWS     20950 non-null  object\n",
            " 20  DWS     20950 non-null  object\n",
            " 21  WS      20950 non-null  object\n",
            " 22  WS/48   20950 non-null  object\n",
            " 23          20950 non-null  object\n",
            " 24  OBPM    20950 non-null  object\n",
            " 25  DBPM    20950 non-null  object\n",
            " 26  BPM     20950 non-null  object\n",
            " 27  VORP    20950 non-null  object\n",
            " 28  Season  20950 non-null  int64 \n",
            "dtypes: int64(1), object(28)\n",
            "memory usage: 4.8+ MB\n"
          ],
          "name": "stdout"
        }
      ]
    },
    {
      "cell_type": "code",
      "metadata": {
        "id": "PZ53T8wmzG94"
      },
      "source": [
        "# Remover colunas desnecessárias\n",
        "advanced_stats.drop(columns = ['\\xa0', 'Pos', 'Age', 'G', 'MP', '3PAr', 'FTr', 'ORB%', 'DRB%', 'TRB%',\n",
        "                               'AST%', 'STL%', 'BLK%', 'TOV%', 'OWS', 'DWS', 'OBPM', 'DBPM'], inplace = True)"
      ],
      "execution_count": null,
      "outputs": []
    },
    {
      "cell_type": "code",
      "metadata": {
        "id": "UUH-dQgwSDJ4",
        "outputId": "517e4896-3444-4a65-e6fb-5643b2f7b079",
        "colab": {
          "base_uri": "https://localhost:8080/",
          "height": 306
        }
      },
      "source": [
        "advanced_stats.info()"
      ],
      "execution_count": null,
      "outputs": [
        {
          "output_type": "stream",
          "text": [
            "<class 'pandas.core.frame.DataFrame'>\n",
            "Int64Index: 20950 entries, 0 to 650\n",
            "Data columns (total 10 columns):\n",
            " #   Column  Non-Null Count  Dtype \n",
            "---  ------  --------------  ----- \n",
            " 0   Player  20950 non-null  object\n",
            " 1   Tm      20950 non-null  object\n",
            " 2   PER     20950 non-null  object\n",
            " 3   TS%     20950 non-null  object\n",
            " 4   USG%    20950 non-null  object\n",
            " 5   WS      20950 non-null  object\n",
            " 6   WS/48   20950 non-null  object\n",
            " 7   BPM     20950 non-null  object\n",
            " 8   VORP    20950 non-null  object\n",
            " 9   Season  20950 non-null  int64 \n",
            "dtypes: int64(1), object(9)\n",
            "memory usage: 1.8+ MB\n"
          ],
          "name": "stdout"
        }
      ]
    },
    {
      "cell_type": "code",
      "metadata": {
        "id": "6Wdy5RiVRSWn"
      },
      "source": [
        "# Scrap MVP Voting\n",
        "mvp_voting_per_season = []\n",
        "for season in seasons:\n",
        "    url = 'https://www.basketball-reference.com/awards/awards_{}.html'.format(season)\n",
        "    html = urlopen(url)\n",
        "    soup = BeautifulSoup(html)\n",
        "\n",
        "    # Obter cabeçalho\n",
        "    headers = [th.getText() for th in soup.findAll('tr', limit = 2)[1].findAll('th')]\n",
        "    headers = headers[1:]\n",
        "\n",
        "    # Obter linhas\n",
        "    table = soup.find(lambda tag: tag.has_attr('id') and tag['id'] == 'mvp')\n",
        "    rows = table.findAll('tr', class_ = lambda x: x != 'thead')[1:]\n",
        "    player_stats = [[td.getText() for td in rows[i].findAll('td')] for i in range(len(rows))]\n",
        "    stats = pd.DataFrame(player_stats, columns = headers)\n",
        "    stats['Season'] = season\n",
        "\n",
        "    # Adicionar dados a lista\n",
        "    mvp_voting_per_season.append(stats)\n",
        "\n",
        "# Unir todos os dados da lista\n",
        "mvp_voting = pd.concat(mvp_voting_per_season)"
      ],
      "execution_count": null,
      "outputs": []
    },
    {
      "cell_type": "code",
      "metadata": {
        "id": "jbJg3GzaDiZs",
        "outputId": "f7de99e0-8f5f-4212-d057-ef7204e12298",
        "colab": {
          "base_uri": "https://localhost:8080/",
          "height": 476
        }
      },
      "source": [
        "mvp_voting.info()"
      ],
      "execution_count": null,
      "outputs": [
        {
          "output_type": "stream",
          "text": [
            "<class 'pandas.core.frame.DataFrame'>\n",
            "Int64Index: 711 entries, 0 to 12\n",
            "Data columns (total 20 columns):\n",
            " #   Column   Non-Null Count  Dtype \n",
            "---  ------   --------------  ----- \n",
            " 0   Player   670 non-null    object\n",
            " 1   Age      670 non-null    object\n",
            " 2   Tm       670 non-null    object\n",
            " 3   First    670 non-null    object\n",
            " 4   Pts Won  670 non-null    object\n",
            " 5   Pts Max  670 non-null    object\n",
            " 6   Share    670 non-null    object\n",
            " 7   G        670 non-null    object\n",
            " 8   MP       670 non-null    object\n",
            " 9   PTS      670 non-null    object\n",
            " 10  TRB      670 non-null    object\n",
            " 11  AST      670 non-null    object\n",
            " 12  STL      670 non-null    object\n",
            " 13  BLK      670 non-null    object\n",
            " 14  FG%      670 non-null    object\n",
            " 15  3P%      670 non-null    object\n",
            " 16  FT%      670 non-null    object\n",
            " 17  WS       670 non-null    object\n",
            " 18  WS/48    670 non-null    object\n",
            " 19  Season   711 non-null    int64 \n",
            "dtypes: int64(1), object(19)\n",
            "memory usage: 116.6+ KB\n"
          ],
          "name": "stdout"
        }
      ]
    },
    {
      "cell_type": "code",
      "metadata": {
        "id": "rLYv74XQLfC7"
      },
      "source": [
        "# Remover colunas desnecessárias\n",
        "mvp_voting.drop(columns = ['Age', 'Pts Max', 'G', 'MP', 'PTS', 'TRB', 'AST',\n",
        "                           'STL', 'BLK', 'FG%', '3P%', 'FT%', 'WS', 'WS/48'], inplace = True)"
      ],
      "execution_count": null,
      "outputs": []
    },
    {
      "cell_type": "code",
      "metadata": {
        "id": "8zsxymSanBVx",
        "outputId": "1a7c1b53-607c-42bd-a7b6-34f8eebf86af",
        "colab": {
          "base_uri": "https://localhost:8080/",
          "height": 238
        }
      },
      "source": [
        "mvp_voting.info()"
      ],
      "execution_count": null,
      "outputs": [
        {
          "output_type": "stream",
          "text": [
            "<class 'pandas.core.frame.DataFrame'>\n",
            "Int64Index: 711 entries, 0 to 12\n",
            "Data columns (total 6 columns):\n",
            " #   Column   Non-Null Count  Dtype \n",
            "---  ------   --------------  ----- \n",
            " 0   Player   670 non-null    object\n",
            " 1   Tm       670 non-null    object\n",
            " 2   First    670 non-null    object\n",
            " 3   Pts Won  670 non-null    object\n",
            " 4   Share    670 non-null    object\n",
            " 5   Season   711 non-null    int64 \n",
            "dtypes: int64(1), object(5)\n",
            "memory usage: 38.9+ KB\n"
          ],
          "name": "stdout"
        }
      ]
    },
    {
      "cell_type": "code",
      "metadata": {
        "id": "SKYx9UAXOZL1"
      },
      "source": [
        "# Converter nomes completos dos jogadores aposentados (remover *)\n",
        "def transform_variable_Player(x: str) -> str:\n",
        "    return x.replace('*', '')\n",
        "\n",
        "basic_stats.Player = basic_stats.Player.apply(transform_variable_Player)\n",
        "advanced_stats.Player = advanced_stats.Player.apply(transform_variable_Player)\n",
        "\n",
        "# Data frame final\n",
        "df = basic_stats.copy()\n",
        "\n",
        "# Criar índices únicos\n",
        "df['PlayerTmSeason'] = df['Player'].map(str) + df['Tm'].map(str) + df['Season'].map(str)\n",
        "df['TmSeason'] = df['Tm'].map(str) + df['Season'].map(str)\n",
        "\n",
        "advanced_stats['PlayerTmSeason'] = advanced_stats['Player'].map(str) + advanced_stats['Tm'].map(str) + advanced_stats['Season'].map(str)\n",
        "mvp_voting['PlayerTmSeason'] = mvp_voting['Player'].map(str) + mvp_voting['Tm'].map(str) + mvp_voting['Season'].map(str)\n",
        "standings_stats['TmSeason'] = standings_stats['Team'].map(str) + standings_stats['Season'].map(str)\n",
        "\n",
        "# Unificar data frames\n",
        "df = df.merge(advanced_stats, on = 'PlayerTmSeason', how = 'left')\n",
        "df = df.merge(mvp_voting, on = 'PlayerTmSeason', how = 'left')\n",
        "df = df.merge(standings_stats, on = 'TmSeason', how = 'left')\n",
        "\n",
        "# Remover colunas duplicada\n",
        "df = df.loc[:, ~df.columns.duplicated()]\n",
        "df.drop(columns = ['PlayerTmSeason', 'TmSeason', 'Player_y', 'Tm_y', 'Season_y', 'Player', 'Tm', 'Team'], inplace = True)\n",
        "\n",
        "# Renomear colunas\n",
        "df.rename(columns = {'Player_x': 'Player', 'Tm_x': 'Team', 'Season_x': 'Season', 'Rk': 'Team Overall Seed'}, inplace = True)\n",
        "\n",
        "# Preencher valores nulos\n",
        "df.fillna({'GS': 0, 'PER': 0, 'USG%': 0, 'First': 0, 'Pts Won': 0, 'Share': 0}, inplace = True)\n",
        "\n",
        "# Remover registros onde o time é 'TOT'\n",
        "df = df[df.Team != 'TOT']"
      ],
      "execution_count": null,
      "outputs": []
    },
    {
      "cell_type": "code",
      "metadata": {
        "id": "KbGzRDaY4hAq",
        "outputId": "b548fdd8-c76b-4b0f-9eb9-7c28610b97b7",
        "colab": {
          "base_uri": "https://localhost:8080/",
          "height": 663
        }
      },
      "source": [
        "df.info()"
      ],
      "execution_count": null,
      "outputs": [
        {
          "output_type": "stream",
          "text": [
            "<class 'pandas.core.frame.DataFrame'>\n",
            "Int64Index: 19111 entries, 0 to 20951\n",
            "Data columns (total 31 columns):\n",
            " #   Column             Non-Null Count  Dtype \n",
            "---  ------             --------------  ----- \n",
            " 0   Player             19111 non-null  object\n",
            " 1   Pos                19111 non-null  object\n",
            " 2   Age                19111 non-null  object\n",
            " 3   Team               19111 non-null  object\n",
            " 4   G                  19111 non-null  object\n",
            " 5   GS                 19111 non-null  object\n",
            " 6   MP                 19111 non-null  object\n",
            " 7   FG%                19111 non-null  object\n",
            " 8   3P%                19111 non-null  object\n",
            " 9   2P%                19111 non-null  object\n",
            " 10  eFG%               19111 non-null  object\n",
            " 11  FT%                19111 non-null  object\n",
            " 12  TRB                19111 non-null  object\n",
            " 13  AST                19111 non-null  object\n",
            " 14  STL                19111 non-null  object\n",
            " 15  BLK                19111 non-null  object\n",
            " 16  TOV                19111 non-null  object\n",
            " 17  PF                 19111 non-null  object\n",
            " 18  PTS                19111 non-null  object\n",
            " 19  Season             19111 non-null  int64 \n",
            " 20  PER                19111 non-null  object\n",
            " 21  TS%                19111 non-null  object\n",
            " 22  USG%               19111 non-null  object\n",
            " 23  WS                 19111 non-null  object\n",
            " 24  WS/48              19111 non-null  object\n",
            " 25  BPM                19111 non-null  object\n",
            " 26  VORP               19111 non-null  object\n",
            " 27  First              19111 non-null  object\n",
            " 28  Pts Won            19111 non-null  object\n",
            " 29  Share              19111 non-null  object\n",
            " 30  Team Overall Seed  19111 non-null  object\n",
            "dtypes: int64(1), object(30)\n",
            "memory usage: 4.7+ MB\n"
          ],
          "name": "stdout"
        }
      ]
    },
    {
      "cell_type": "code",
      "metadata": {
        "id": "yU_hUP_UbGhn"
      },
      "source": [
        "# Converter o tipo dos dados\n",
        "int_columns = ['Age', 'G', 'GS', 'First', 'Pts Won', 'Team Overall Seed']\n",
        "percentage_float_columns = ['FG%', '3P%', '2P%', 'eFG%', 'FT%', 'TS%', 'WS/48', 'Share']\n",
        "float_columns = ['MP', 'TRB', 'AST', 'STL', 'BLK', 'TOV', 'PF', 'PTS', 'PER', 'USG%', 'WS', 'BPM', 'VORP']\n",
        "\n",
        "for column in int_columns:\n",
        "    if column == 'GS':\n",
        "        df[column] = df[column].astype(str).apply(lambda x: '0' if x == '' else x)\n",
        "\n",
        "    if column == 'First' or column == 'Pts Won':\n",
        "        df[column] = df[column].astype(str).apply(lambda x: x[:-2] if '.' in x else x)\n",
        "\n",
        "    df[column] = df[column].astype(int)\n",
        "\n",
        "for column in percentage_float_columns:\n",
        "    if column == 'Share':\n",
        "        df[column] = df[column].astype(str).apply(lambda x: '0.0' if x == '0' else x)\n",
        "    else:\n",
        "        df[column] = df[column].apply(lambda x: x.zfill(1))\n",
        "    \n",
        "for column in float_columns:\n",
        "    if column == 'PER' or column == 'USG%':\n",
        "        df[column] = df[column].astype(str).apply(lambda x: '0.0' if x == '' else x)\n",
        "\n",
        "    df[column] = df[column].astype(float)"
      ],
      "execution_count": null,
      "outputs": []
    },
    {
      "cell_type": "code",
      "metadata": {
        "id": "2kitGb88ge_d",
        "outputId": "5675c3fd-6605-4732-9ffe-a0003ce433b7",
        "colab": {
          "base_uri": "https://localhost:8080/",
          "height": 663
        }
      },
      "source": [
        "df.info()"
      ],
      "execution_count": null,
      "outputs": [
        {
          "output_type": "stream",
          "text": [
            "<class 'pandas.core.frame.DataFrame'>\n",
            "Int64Index: 19111 entries, 0 to 20951\n",
            "Data columns (total 31 columns):\n",
            " #   Column             Non-Null Count  Dtype  \n",
            "---  ------             --------------  -----  \n",
            " 0   Player             19111 non-null  object \n",
            " 1   Pos                19111 non-null  object \n",
            " 2   Age                19111 non-null  int64  \n",
            " 3   Team               19111 non-null  object \n",
            " 4   G                  19111 non-null  int64  \n",
            " 5   GS                 19111 non-null  int64  \n",
            " 6   MP                 19111 non-null  float64\n",
            " 7   FG%                19111 non-null  object \n",
            " 8   3P%                19111 non-null  object \n",
            " 9   2P%                19111 non-null  object \n",
            " 10  eFG%               19111 non-null  object \n",
            " 11  FT%                19111 non-null  object \n",
            " 12  TRB                19111 non-null  float64\n",
            " 13  AST                19111 non-null  float64\n",
            " 14  STL                19111 non-null  float64\n",
            " 15  BLK                19111 non-null  float64\n",
            " 16  TOV                19111 non-null  float64\n",
            " 17  PF                 19111 non-null  float64\n",
            " 18  PTS                19111 non-null  float64\n",
            " 19  Season             19111 non-null  int64  \n",
            " 20  PER                19111 non-null  float64\n",
            " 21  TS%                19111 non-null  object \n",
            " 22  USG%               19111 non-null  float64\n",
            " 23  WS                 19111 non-null  float64\n",
            " 24  WS/48              19111 non-null  object \n",
            " 25  BPM                19111 non-null  float64\n",
            " 26  VORP               19111 non-null  float64\n",
            " 27  First              19111 non-null  int64  \n",
            " 28  Pts Won            19111 non-null  int64  \n",
            " 29  Share              19111 non-null  object \n",
            " 30  Team Overall Seed  19111 non-null  int64  \n",
            "dtypes: float64(13), int64(7), object(11)\n",
            "memory usage: 4.7+ MB\n"
          ],
          "name": "stdout"
        }
      ]
    },
    {
      "cell_type": "code",
      "metadata": {
        "id": "uHi1nhrWbADD",
        "outputId": "5d1f2e2a-8d54-4fc6-b16e-575d62c2a980",
        "colab": {
          "base_uri": "https://localhost:8080/",
          "height": 34
        }
      },
      "source": [
        "# Exportar dataset\n",
        "from google.colab import drive\n",
        "drive.mount('drive')\n",
        "\n",
        "df.to_csv('df_1980_2020.csv', index = False)\n",
        "!cp df_1980_2020.csv 'drive/My Drive/'"
      ],
      "execution_count": null,
      "outputs": [
        {
          "output_type": "stream",
          "text": [
            "Drive already mounted at drive; to attempt to forcibly remount, call drive.mount(\"drive\", force_remount=True).\n"
          ],
          "name": "stdout"
        }
      ]
    }
  ]
}